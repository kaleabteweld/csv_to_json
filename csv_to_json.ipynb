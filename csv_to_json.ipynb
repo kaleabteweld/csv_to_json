{
 "cells": [
  {
   "cell_type": "code",
   "execution_count": 101,
   "metadata": {},
   "outputs": [],
   "source": [
    "import pandas as pd \n",
    "import json\n",
    "import re\n",
    "import numpy as np"
   ]
  },
  {
   "cell_type": "code",
   "execution_count": 102,
   "metadata": {},
   "outputs": [
    {
     "name": "stdout",
     "output_type": "stream",
     "text": [
      "csv_to_json\n",
      "enter the csv:\n",
      ">> \n",
      "[+]reading\n",
      "Index(['genres', 'name', 'overview', 'poster_path', 'production_companies',\n",
      "       'release_date', 'spoken_languages', 'vote_average'],\n",
      "      dtype='object')\n",
      "which column is the json objects like <genres,production_companies.....> >>\n",
      ">> genres,production_companies,spoken_languages\n"
     ]
    }
   ],
   "source": [
    "print(\"csv_to_json\")\n",
    "print(\"enter the csv:\")\n",
    "loc = input(\">> \")\n",
    "loc = \"C:/Users/Kaleab Teweldbrhan/Desktop/Book1.csv\"\n",
    "print(\"[+]reading\")\n",
    "data = pd.read_csv(loc)\n",
    "print(data.columns)\n",
    "print(\"which column is the json objects like <genres,production_companies.....> >>\")\n",
    "things = input(\">> \")\n",
    "things = things.split(\",\")\n",
    "Things = data.columns\n",
    "#genres,production_companies,spoken_languages"
   ]
  },
  {
   "cell_type": "code",
   "execution_count": null,
   "metadata": {},
   "outputs": [],
   "source": []
  },
  {
   "cell_type": "code",
   "execution_count": 103,
   "metadata": {
    "scrolled": true
   },
   "outputs": [
    {
     "name": "stdout",
     "output_type": "stream",
     "text": [
      "[+] data len: 45466\n",
      "[+] removeing all [] cells\n",
      "  [*] removeing all 2442  [] from genres\n",
      "  [*] removeing all 9777  [] from production_companies\n",
      "  [*] removeing all 777  [] from spoken_languages\n",
      "[+] removeing all NaN cells\n",
      "[+] new data len: 32100\n"
     ]
    }
   ],
   "source": [
    "# for my case all [] are empty data\n",
    "print(\"[+] data len: \"+str(len(data)))\n",
    "print(\"[+] removeing all [] cells\")\n",
    "for i in range(len(things)):\n",
    "    temp = (data[data[things[i]] == '[]']).index\n",
    "    print(\"  [*] removeing all \"+str(len(temp))+\"  [] from \"+things[i])\n",
    "    data.drop(temp,inplace=True)\n",
    "print(\"[+] removeing all NaN cells\")                                                          \n",
    "data.dropna(inplace=True)\n",
    "print(\"[+] new data len: \"+str(len(data)))"
   ]
  },
  {
   "cell_type": "code",
   "execution_count": 104,
   "metadata": {},
   "outputs": [],
   "source": [
    "subData = data[data.columns[np.in1d(Things,things)]]"
   ]
  },
  {
   "cell_type": "code",
   "execution_count": 105,
   "metadata": {},
   "outputs": [
    {
     "data": {
      "text/html": [
       "<div>\n",
       "<style scoped>\n",
       "    .dataframe tbody tr th:only-of-type {\n",
       "        vertical-align: middle;\n",
       "    }\n",
       "\n",
       "    .dataframe tbody tr th {\n",
       "        vertical-align: top;\n",
       "    }\n",
       "\n",
       "    .dataframe thead th {\n",
       "        text-align: right;\n",
       "    }\n",
       "</style>\n",
       "<table border=\"1\" class=\"dataframe\">\n",
       "  <thead>\n",
       "    <tr style=\"text-align: right;\">\n",
       "      <th></th>\n",
       "      <th>genres</th>\n",
       "      <th>production_companies</th>\n",
       "      <th>spoken_languages</th>\n",
       "    </tr>\n",
       "  </thead>\n",
       "  <tbody>\n",
       "    <tr>\n",
       "      <th>0</th>\n",
       "      <td>[{'id': 16, 'name': 'Animation'}, {'id': 35, '...</td>\n",
       "      <td>[{'name': 'Pixar Animation Studios', 'id': 3}]</td>\n",
       "      <td>[{'iso_639_1': 'en', 'name': 'English'}]</td>\n",
       "    </tr>\n",
       "    <tr>\n",
       "      <th>1</th>\n",
       "      <td>[{'id': 12, 'name': 'Adventure'}, {'id': 14, '...</td>\n",
       "      <td>[{'name': 'TriStar Pictures', 'id': 559}, {'na...</td>\n",
       "      <td>[{'iso_639_1': 'en', 'name': 'English'}, {'iso...</td>\n",
       "    </tr>\n",
       "    <tr>\n",
       "      <th>2</th>\n",
       "      <td>[{'id': 10749, 'name': 'Romance'}, {'id': 35, ...</td>\n",
       "      <td>[{'name': 'Warner Bros.', 'id': 6194}, {'name'...</td>\n",
       "      <td>[{'iso_639_1': 'en', 'name': 'English'}]</td>\n",
       "    </tr>\n",
       "    <tr>\n",
       "      <th>3</th>\n",
       "      <td>[{'id': 35, 'name': 'Comedy'}, {'id': 18, 'nam...</td>\n",
       "      <td>[{'name': 'Twentieth Century Fox Film Corporat...</td>\n",
       "      <td>[{'iso_639_1': 'en', 'name': 'English'}]</td>\n",
       "    </tr>\n",
       "    <tr>\n",
       "      <th>4</th>\n",
       "      <td>[{'id': 35, 'name': 'Comedy'}]</td>\n",
       "      <td>[{'name': 'Sandollar Productions', 'id': 5842}...</td>\n",
       "      <td>[{'iso_639_1': 'en', 'name': 'English'}]</td>\n",
       "    </tr>\n",
       "    <tr>\n",
       "      <th>...</th>\n",
       "      <td>...</td>\n",
       "      <td>...</td>\n",
       "      <td>...</td>\n",
       "    </tr>\n",
       "    <tr>\n",
       "      <th>45458</th>\n",
       "      <td>[{'id': 27, 'name': 'Horror'}]</td>\n",
       "      <td>[{'name': 'Neptune Salad Entertainment', 'id':...</td>\n",
       "      <td>[{'iso_639_1': 'en', 'name': 'English'}]</td>\n",
       "    </tr>\n",
       "    <tr>\n",
       "      <th>45459</th>\n",
       "      <td>[{'id': 878, 'name': 'Science Fiction'}]</td>\n",
       "      <td>[{'name': 'Concorde-New Horizons', 'id': 4688}]</td>\n",
       "      <td>[{'iso_639_1': 'en', 'name': 'English'}]</td>\n",
       "    </tr>\n",
       "    <tr>\n",
       "      <th>45460</th>\n",
       "      <td>[{'id': 18, 'name': 'Drama'}, {'id': 28, 'name...</td>\n",
       "      <td>[{'name': 'Westdeutscher Rundfunk (WDR)', 'id'...</td>\n",
       "      <td>[{'iso_639_1': 'en', 'name': 'English'}]</td>\n",
       "    </tr>\n",
       "    <tr>\n",
       "      <th>45462</th>\n",
       "      <td>[{'id': 18, 'name': 'Drama'}]</td>\n",
       "      <td>[{'name': 'Sine Olivia', 'id': 19653}]</td>\n",
       "      <td>[{'iso_639_1': 'tl', 'name': ''}]</td>\n",
       "    </tr>\n",
       "    <tr>\n",
       "      <th>45463</th>\n",
       "      <td>[{'id': 28, 'name': 'Action'}, {'id': 18, 'nam...</td>\n",
       "      <td>[{'name': 'American World Pictures', 'id': 6165}]</td>\n",
       "      <td>[{'iso_639_1': 'en', 'name': 'English'}]</td>\n",
       "    </tr>\n",
       "  </tbody>\n",
       "</table>\n",
       "<p>32100 rows × 3 columns</p>\n",
       "</div>"
      ],
      "text/plain": [
       "                                                  genres  \\\n",
       "0      [{'id': 16, 'name': 'Animation'}, {'id': 35, '...   \n",
       "1      [{'id': 12, 'name': 'Adventure'}, {'id': 14, '...   \n",
       "2      [{'id': 10749, 'name': 'Romance'}, {'id': 35, ...   \n",
       "3      [{'id': 35, 'name': 'Comedy'}, {'id': 18, 'nam...   \n",
       "4                         [{'id': 35, 'name': 'Comedy'}]   \n",
       "...                                                  ...   \n",
       "45458                     [{'id': 27, 'name': 'Horror'}]   \n",
       "45459           [{'id': 878, 'name': 'Science Fiction'}]   \n",
       "45460  [{'id': 18, 'name': 'Drama'}, {'id': 28, 'name...   \n",
       "45462                      [{'id': 18, 'name': 'Drama'}]   \n",
       "45463  [{'id': 28, 'name': 'Action'}, {'id': 18, 'nam...   \n",
       "\n",
       "                                    production_companies  \\\n",
       "0         [{'name': 'Pixar Animation Studios', 'id': 3}]   \n",
       "1      [{'name': 'TriStar Pictures', 'id': 559}, {'na...   \n",
       "2      [{'name': 'Warner Bros.', 'id': 6194}, {'name'...   \n",
       "3      [{'name': 'Twentieth Century Fox Film Corporat...   \n",
       "4      [{'name': 'Sandollar Productions', 'id': 5842}...   \n",
       "...                                                  ...   \n",
       "45458  [{'name': 'Neptune Salad Entertainment', 'id':...   \n",
       "45459    [{'name': 'Concorde-New Horizons', 'id': 4688}]   \n",
       "45460  [{'name': 'Westdeutscher Rundfunk (WDR)', 'id'...   \n",
       "45462             [{'name': 'Sine Olivia', 'id': 19653}]   \n",
       "45463  [{'name': 'American World Pictures', 'id': 6165}]   \n",
       "\n",
       "                                        spoken_languages  \n",
       "0               [{'iso_639_1': 'en', 'name': 'English'}]  \n",
       "1      [{'iso_639_1': 'en', 'name': 'English'}, {'iso...  \n",
       "2               [{'iso_639_1': 'en', 'name': 'English'}]  \n",
       "3               [{'iso_639_1': 'en', 'name': 'English'}]  \n",
       "4               [{'iso_639_1': 'en', 'name': 'English'}]  \n",
       "...                                                  ...  \n",
       "45458           [{'iso_639_1': 'en', 'name': 'English'}]  \n",
       "45459           [{'iso_639_1': 'en', 'name': 'English'}]  \n",
       "45460           [{'iso_639_1': 'en', 'name': 'English'}]  \n",
       "45462                  [{'iso_639_1': 'tl', 'name': ''}]  \n",
       "45463           [{'iso_639_1': 'en', 'name': 'English'}]  \n",
       "\n",
       "[32100 rows x 3 columns]"
      ]
     },
     "execution_count": 105,
     "metadata": {},
     "output_type": "execute_result"
    }
   ],
   "source": [
    "subData"
   ]
  },
  {
   "cell_type": "code",
   "execution_count": null,
   "metadata": {},
   "outputs": [],
   "source": []
  },
  {
   "cell_type": "code",
   "execution_count": null,
   "metadata": {},
   "outputs": [],
   "source": []
  },
  {
   "cell_type": "code",
   "execution_count": 106,
   "metadata": {},
   "outputs": [],
   "source": [
    "Row = []\n",
    "main = pd.DataFrame()"
   ]
  },
  {
   "cell_type": "code",
   "execution_count": 107,
   "metadata": {},
   "outputs": [
    {
     "name": "stdout",
     "output_type": "stream",
     "text": [
      "[+] done\n"
     ]
    }
   ],
   "source": [
    "n = 0\n",
    "for row in subData.iterrows():\n",
    "    for i in range(0,len(subData.columns)):\n",
    "        a = str(row[1][i])\n",
    "        if(a != \"nan\" and a != \"FALSE\"):\n",
    "            b =  re.sub(\"\\\"\",\"'\", a)\n",
    "            b = re.sub(\"\\[{'\",\"[{\\\"\",b)\n",
    "            b = re.sub(\", {'\",\", {\\\"\",b)\n",
    "            b = re.sub(\", '\",\",\\\"\", b)\n",
    "            b = re.sub(\"':\",\"\\\": \", b)\n",
    "            b =  re.sub(\":  '\",\": \\\"\", b)\n",
    "            b =  re.sub(\"',\\\"\",\"\\\",\\\"\", b)\n",
    "            b =  re.sub(\"'}\",\"\\\"}\", b)\n",
    "    #         b =  re.sub('\\\\X',\" \", b)\n",
    "            b = re.sub(r\"\\\\\",\" \", b)\n",
    "\n",
    "            try:\n",
    "                done = json.loads(b)\n",
    "                Row.append({subData.columns[i]:done})\n",
    "            except Exception as e:\n",
    "                print(\"no\")\n",
    "                print((n,i))\n",
    "                print(e)\n",
    "                print(row[1][i])\n",
    "                print(b)\n",
    "                n = -1\n",
    "                break\n",
    "#     if(n == 4):\n",
    "    tempSubData = pd.Series(Row)\n",
    "    Row=[]\n",
    "    main = main.append(tempSubData, ignore_index = True)\n",
    "    n = n + 1\n",
    "    \n",
    "        \n",
    "            \n",
    "\n",
    "            \n",
    "print(\"[+] done\")\n",
    "    "
   ]
  },
  {
   "cell_type": "code",
   "execution_count": 108,
   "metadata": {},
   "outputs": [
    {
     "data": {
      "text/html": [
       "<div>\n",
       "<style scoped>\n",
       "    .dataframe tbody tr th:only-of-type {\n",
       "        vertical-align: middle;\n",
       "    }\n",
       "\n",
       "    .dataframe tbody tr th {\n",
       "        vertical-align: top;\n",
       "    }\n",
       "\n",
       "    .dataframe thead th {\n",
       "        text-align: right;\n",
       "    }\n",
       "</style>\n",
       "<table border=\"1\" class=\"dataframe\">\n",
       "  <thead>\n",
       "    <tr style=\"text-align: right;\">\n",
       "      <th></th>\n",
       "      <th>0</th>\n",
       "      <th>1</th>\n",
       "      <th>2</th>\n",
       "    </tr>\n",
       "  </thead>\n",
       "  <tbody>\n",
       "    <tr>\n",
       "      <th>0</th>\n",
       "      <td>{'genres': [{'id': 16, 'name': 'Animation'}, {...</td>\n",
       "      <td>{'production_companies': [{'name': 'Pixar Anim...</td>\n",
       "      <td>{'spoken_languages': [{'iso_639_1': 'en', 'nam...</td>\n",
       "    </tr>\n",
       "    <tr>\n",
       "      <th>1</th>\n",
       "      <td>{'genres': [{'id': 12, 'name': 'Adventure'}, {...</td>\n",
       "      <td>{'production_companies': [{'name': 'TriStar Pi...</td>\n",
       "      <td>{'spoken_languages': [{'iso_639_1': 'en', 'nam...</td>\n",
       "    </tr>\n",
       "    <tr>\n",
       "      <th>2</th>\n",
       "      <td>{'genres': [{'id': 10749, 'name': 'Romance'}, ...</td>\n",
       "      <td>{'production_companies': [{'name': 'Warner Bro...</td>\n",
       "      <td>{'spoken_languages': [{'iso_639_1': 'en', 'nam...</td>\n",
       "    </tr>\n",
       "    <tr>\n",
       "      <th>3</th>\n",
       "      <td>{'genres': [{'id': 35, 'name': 'Comedy'}, {'id...</td>\n",
       "      <td>{'production_companies': [{'name': 'Twentieth ...</td>\n",
       "      <td>{'spoken_languages': [{'iso_639_1': 'en', 'nam...</td>\n",
       "    </tr>\n",
       "    <tr>\n",
       "      <th>4</th>\n",
       "      <td>{'genres': [{'id': 35, 'name': 'Comedy'}]}</td>\n",
       "      <td>{'production_companies': [{'name': 'Sandollar ...</td>\n",
       "      <td>{'spoken_languages': [{'iso_639_1': 'en', 'nam...</td>\n",
       "    </tr>\n",
       "    <tr>\n",
       "      <th>...</th>\n",
       "      <td>...</td>\n",
       "      <td>...</td>\n",
       "      <td>...</td>\n",
       "    </tr>\n",
       "    <tr>\n",
       "      <th>32095</th>\n",
       "      <td>{'genres': [{'id': 27, 'name': 'Horror'}]}</td>\n",
       "      <td>{'production_companies': [{'name': 'Neptune Sa...</td>\n",
       "      <td>{'spoken_languages': [{'iso_639_1': 'en', 'nam...</td>\n",
       "    </tr>\n",
       "    <tr>\n",
       "      <th>32096</th>\n",
       "      <td>{'genres': [{'id': 878, 'name': 'Science Ficti...</td>\n",
       "      <td>{'production_companies': [{'name': 'Concorde-N...</td>\n",
       "      <td>{'spoken_languages': [{'iso_639_1': 'en', 'nam...</td>\n",
       "    </tr>\n",
       "    <tr>\n",
       "      <th>32097</th>\n",
       "      <td>{'genres': [{'id': 18, 'name': 'Drama'}, {'id'...</td>\n",
       "      <td>{'production_companies': [{'name': 'Westdeutsc...</td>\n",
       "      <td>{'spoken_languages': [{'iso_639_1': 'en', 'nam...</td>\n",
       "    </tr>\n",
       "    <tr>\n",
       "      <th>32098</th>\n",
       "      <td>{'genres': [{'id': 18, 'name': 'Drama'}]}</td>\n",
       "      <td>{'production_companies': [{'name': 'Sine Olivi...</td>\n",
       "      <td>{'spoken_languages': [{'iso_639_1': 'tl', 'nam...</td>\n",
       "    </tr>\n",
       "    <tr>\n",
       "      <th>32099</th>\n",
       "      <td>{'genres': [{'id': 28, 'name': 'Action'}, {'id...</td>\n",
       "      <td>{'production_companies': [{'name': 'American W...</td>\n",
       "      <td>{'spoken_languages': [{'iso_639_1': 'en', 'nam...</td>\n",
       "    </tr>\n",
       "  </tbody>\n",
       "</table>\n",
       "<p>32100 rows × 3 columns</p>\n",
       "</div>"
      ],
      "text/plain": [
       "                                                       0  \\\n",
       "0      {'genres': [{'id': 16, 'name': 'Animation'}, {...   \n",
       "1      {'genres': [{'id': 12, 'name': 'Adventure'}, {...   \n",
       "2      {'genres': [{'id': 10749, 'name': 'Romance'}, ...   \n",
       "3      {'genres': [{'id': 35, 'name': 'Comedy'}, {'id...   \n",
       "4             {'genres': [{'id': 35, 'name': 'Comedy'}]}   \n",
       "...                                                  ...   \n",
       "32095         {'genres': [{'id': 27, 'name': 'Horror'}]}   \n",
       "32096  {'genres': [{'id': 878, 'name': 'Science Ficti...   \n",
       "32097  {'genres': [{'id': 18, 'name': 'Drama'}, {'id'...   \n",
       "32098          {'genres': [{'id': 18, 'name': 'Drama'}]}   \n",
       "32099  {'genres': [{'id': 28, 'name': 'Action'}, {'id...   \n",
       "\n",
       "                                                       1  \\\n",
       "0      {'production_companies': [{'name': 'Pixar Anim...   \n",
       "1      {'production_companies': [{'name': 'TriStar Pi...   \n",
       "2      {'production_companies': [{'name': 'Warner Bro...   \n",
       "3      {'production_companies': [{'name': 'Twentieth ...   \n",
       "4      {'production_companies': [{'name': 'Sandollar ...   \n",
       "...                                                  ...   \n",
       "32095  {'production_companies': [{'name': 'Neptune Sa...   \n",
       "32096  {'production_companies': [{'name': 'Concorde-N...   \n",
       "32097  {'production_companies': [{'name': 'Westdeutsc...   \n",
       "32098  {'production_companies': [{'name': 'Sine Olivi...   \n",
       "32099  {'production_companies': [{'name': 'American W...   \n",
       "\n",
       "                                                       2  \n",
       "0      {'spoken_languages': [{'iso_639_1': 'en', 'nam...  \n",
       "1      {'spoken_languages': [{'iso_639_1': 'en', 'nam...  \n",
       "2      {'spoken_languages': [{'iso_639_1': 'en', 'nam...  \n",
       "3      {'spoken_languages': [{'iso_639_1': 'en', 'nam...  \n",
       "4      {'spoken_languages': [{'iso_639_1': 'en', 'nam...  \n",
       "...                                                  ...  \n",
       "32095  {'spoken_languages': [{'iso_639_1': 'en', 'nam...  \n",
       "32096  {'spoken_languages': [{'iso_639_1': 'en', 'nam...  \n",
       "32097  {'spoken_languages': [{'iso_639_1': 'en', 'nam...  \n",
       "32098  {'spoken_languages': [{'iso_639_1': 'tl', 'nam...  \n",
       "32099  {'spoken_languages': [{'iso_639_1': 'en', 'nam...  \n",
       "\n",
       "[32100 rows x 3 columns]"
      ]
     },
     "execution_count": 108,
     "metadata": {},
     "output_type": "execute_result"
    }
   ],
   "source": [
    "main"
   ]
  },
  {
   "cell_type": "code",
   "execution_count": 109,
   "metadata": {},
   "outputs": [],
   "source": [
    "subData = main"
   ]
  },
  {
   "cell_type": "code",
   "execution_count": 110,
   "metadata": {},
   "outputs": [
    {
     "data": {
      "text/html": [
       "<div>\n",
       "<style scoped>\n",
       "    .dataframe tbody tr th:only-of-type {\n",
       "        vertical-align: middle;\n",
       "    }\n",
       "\n",
       "    .dataframe tbody tr th {\n",
       "        vertical-align: top;\n",
       "    }\n",
       "\n",
       "    .dataframe thead th {\n",
       "        text-align: right;\n",
       "    }\n",
       "</style>\n",
       "<table border=\"1\" class=\"dataframe\">\n",
       "  <thead>\n",
       "    <tr style=\"text-align: right;\">\n",
       "      <th></th>\n",
       "      <th>genres</th>\n",
       "      <th>production_companies</th>\n",
       "      <th>spoken_languages</th>\n",
       "    </tr>\n",
       "  </thead>\n",
       "  <tbody>\n",
       "    <tr>\n",
       "      <th>0</th>\n",
       "      <td>{'genres': [{'id': 16, 'name': 'Animation'}, {...</td>\n",
       "      <td>{'production_companies': [{'name': 'Pixar Anim...</td>\n",
       "      <td>{'spoken_languages': [{'iso_639_1': 'en', 'nam...</td>\n",
       "    </tr>\n",
       "    <tr>\n",
       "      <th>1</th>\n",
       "      <td>{'genres': [{'id': 12, 'name': 'Adventure'}, {...</td>\n",
       "      <td>{'production_companies': [{'name': 'TriStar Pi...</td>\n",
       "      <td>{'spoken_languages': [{'iso_639_1': 'en', 'nam...</td>\n",
       "    </tr>\n",
       "    <tr>\n",
       "      <th>2</th>\n",
       "      <td>{'genres': [{'id': 10749, 'name': 'Romance'}, ...</td>\n",
       "      <td>{'production_companies': [{'name': 'Warner Bro...</td>\n",
       "      <td>{'spoken_languages': [{'iso_639_1': 'en', 'nam...</td>\n",
       "    </tr>\n",
       "    <tr>\n",
       "      <th>3</th>\n",
       "      <td>{'genres': [{'id': 35, 'name': 'Comedy'}, {'id...</td>\n",
       "      <td>{'production_companies': [{'name': 'Twentieth ...</td>\n",
       "      <td>{'spoken_languages': [{'iso_639_1': 'en', 'nam...</td>\n",
       "    </tr>\n",
       "    <tr>\n",
       "      <th>4</th>\n",
       "      <td>{'genres': [{'id': 35, 'name': 'Comedy'}]}</td>\n",
       "      <td>{'production_companies': [{'name': 'Sandollar ...</td>\n",
       "      <td>{'spoken_languages': [{'iso_639_1': 'en', 'nam...</td>\n",
       "    </tr>\n",
       "    <tr>\n",
       "      <th>...</th>\n",
       "      <td>...</td>\n",
       "      <td>...</td>\n",
       "      <td>...</td>\n",
       "    </tr>\n",
       "    <tr>\n",
       "      <th>32095</th>\n",
       "      <td>{'genres': [{'id': 27, 'name': 'Horror'}]}</td>\n",
       "      <td>{'production_companies': [{'name': 'Neptune Sa...</td>\n",
       "      <td>{'spoken_languages': [{'iso_639_1': 'en', 'nam...</td>\n",
       "    </tr>\n",
       "    <tr>\n",
       "      <th>32096</th>\n",
       "      <td>{'genres': [{'id': 878, 'name': 'Science Ficti...</td>\n",
       "      <td>{'production_companies': [{'name': 'Concorde-N...</td>\n",
       "      <td>{'spoken_languages': [{'iso_639_1': 'en', 'nam...</td>\n",
       "    </tr>\n",
       "    <tr>\n",
       "      <th>32097</th>\n",
       "      <td>{'genres': [{'id': 18, 'name': 'Drama'}, {'id'...</td>\n",
       "      <td>{'production_companies': [{'name': 'Westdeutsc...</td>\n",
       "      <td>{'spoken_languages': [{'iso_639_1': 'en', 'nam...</td>\n",
       "    </tr>\n",
       "    <tr>\n",
       "      <th>32098</th>\n",
       "      <td>{'genres': [{'id': 18, 'name': 'Drama'}]}</td>\n",
       "      <td>{'production_companies': [{'name': 'Sine Olivi...</td>\n",
       "      <td>{'spoken_languages': [{'iso_639_1': 'tl', 'nam...</td>\n",
       "    </tr>\n",
       "    <tr>\n",
       "      <th>32099</th>\n",
       "      <td>{'genres': [{'id': 28, 'name': 'Action'}, {'id...</td>\n",
       "      <td>{'production_companies': [{'name': 'American W...</td>\n",
       "      <td>{'spoken_languages': [{'iso_639_1': 'en', 'nam...</td>\n",
       "    </tr>\n",
       "  </tbody>\n",
       "</table>\n",
       "<p>32100 rows × 3 columns</p>\n",
       "</div>"
      ],
      "text/plain": [
       "                                                  genres  \\\n",
       "0      {'genres': [{'id': 16, 'name': 'Animation'}, {...   \n",
       "1      {'genres': [{'id': 12, 'name': 'Adventure'}, {...   \n",
       "2      {'genres': [{'id': 10749, 'name': 'Romance'}, ...   \n",
       "3      {'genres': [{'id': 35, 'name': 'Comedy'}, {'id...   \n",
       "4             {'genres': [{'id': 35, 'name': 'Comedy'}]}   \n",
       "...                                                  ...   \n",
       "32095         {'genres': [{'id': 27, 'name': 'Horror'}]}   \n",
       "32096  {'genres': [{'id': 878, 'name': 'Science Ficti...   \n",
       "32097  {'genres': [{'id': 18, 'name': 'Drama'}, {'id'...   \n",
       "32098          {'genres': [{'id': 18, 'name': 'Drama'}]}   \n",
       "32099  {'genres': [{'id': 28, 'name': 'Action'}, {'id...   \n",
       "\n",
       "                                    production_companies  \\\n",
       "0      {'production_companies': [{'name': 'Pixar Anim...   \n",
       "1      {'production_companies': [{'name': 'TriStar Pi...   \n",
       "2      {'production_companies': [{'name': 'Warner Bro...   \n",
       "3      {'production_companies': [{'name': 'Twentieth ...   \n",
       "4      {'production_companies': [{'name': 'Sandollar ...   \n",
       "...                                                  ...   \n",
       "32095  {'production_companies': [{'name': 'Neptune Sa...   \n",
       "32096  {'production_companies': [{'name': 'Concorde-N...   \n",
       "32097  {'production_companies': [{'name': 'Westdeutsc...   \n",
       "32098  {'production_companies': [{'name': 'Sine Olivi...   \n",
       "32099  {'production_companies': [{'name': 'American W...   \n",
       "\n",
       "                                        spoken_languages  \n",
       "0      {'spoken_languages': [{'iso_639_1': 'en', 'nam...  \n",
       "1      {'spoken_languages': [{'iso_639_1': 'en', 'nam...  \n",
       "2      {'spoken_languages': [{'iso_639_1': 'en', 'nam...  \n",
       "3      {'spoken_languages': [{'iso_639_1': 'en', 'nam...  \n",
       "4      {'spoken_languages': [{'iso_639_1': 'en', 'nam...  \n",
       "...                                                  ...  \n",
       "32095  {'spoken_languages': [{'iso_639_1': 'en', 'nam...  \n",
       "32096  {'spoken_languages': [{'iso_639_1': 'en', 'nam...  \n",
       "32097  {'spoken_languages': [{'iso_639_1': 'en', 'nam...  \n",
       "32098  {'spoken_languages': [{'iso_639_1': 'tl', 'nam...  \n",
       "32099  {'spoken_languages': [{'iso_639_1': 'en', 'nam...  \n",
       "\n",
       "[32100 rows x 3 columns]"
      ]
     },
     "execution_count": 110,
     "metadata": {},
     "output_type": "execute_result"
    }
   ],
   "source": [
    "subData.columns = things\n",
    "subData"
   ]
  },
  {
   "cell_type": "code",
   "execution_count": 111,
   "metadata": {},
   "outputs": [
    {
     "name": "stdout",
     "output_type": "stream",
     "text": [
      "32100\n"
     ]
    }
   ],
   "source": [
    "print(len(subData))"
   ]
  },
  {
   "cell_type": "code",
   "execution_count": 112,
   "metadata": {},
   "outputs": [
    {
     "name": "stdout",
     "output_type": "stream",
     "text": [
      "genres\n",
      "production_companies\n",
      "spoken_languages\n"
     ]
    }
   ],
   "source": [
    "for i in subData.columns:\n",
    "    print(i)\n",
    "    data[i] = subData[i]\n",
    "\n",
    "#data[data.columns[np.in1d(Things,things)]] = subData "
   ]
  },
  {
   "cell_type": "code",
   "execution_count": 113,
   "metadata": {},
   "outputs": [
    {
     "data": {
      "text/plain": [
       "32100"
      ]
     },
     "execution_count": 113,
     "metadata": {},
     "output_type": "execute_result"
    }
   ],
   "source": [
    "len(data)"
   ]
  },
  {
   "cell_type": "code",
   "execution_count": 114,
   "metadata": {},
   "outputs": [],
   "source": [
    "data.to_json('main.json',orient=\"records\",indent=4)"
   ]
  },
  {
   "cell_type": "code",
   "execution_count": null,
   "metadata": {},
   "outputs": [],
   "source": []
  },
  {
   "cell_type": "code",
   "execution_count": null,
   "metadata": {},
   "outputs": [],
   "source": []
  },
  {
   "cell_type": "code",
   "execution_count": null,
   "metadata": {},
   "outputs": [],
   "source": []
  },
  {
   "cell_type": "code",
   "execution_count": null,
   "metadata": {},
   "outputs": [],
   "source": [
    "# all done"
   ]
  },
  {
   "cell_type": "code",
   "execution_count": null,
   "metadata": {},
   "outputs": [],
   "source": []
  },
  {
   "cell_type": "code",
   "execution_count": null,
   "metadata": {},
   "outputs": [],
   "source": []
  },
  {
   "cell_type": "code",
   "execution_count": null,
   "metadata": {},
   "outputs": [],
   "source": []
  },
  {
   "cell_type": "code",
   "execution_count": null,
   "metadata": {},
   "outputs": [],
   "source": []
  },
  {
   "cell_type": "code",
   "execution_count": null,
   "metadata": {},
   "outputs": [],
   "source": []
  },
  {
   "cell_type": "code",
   "execution_count": null,
   "metadata": {},
   "outputs": [],
   "source": []
  },
  {
   "cell_type": "code",
   "execution_count": 67,
   "metadata": {},
   "outputs": [],
   "source": [
    "data = pd.read_csv(\"C:/Users/kaleab teweldbrhan/Desktop/Book1.csv\")"
   ]
  },
  {
   "cell_type": "code",
   "execution_count": null,
   "metadata": {},
   "outputs": [],
   "source": []
  },
  {
   "cell_type": "code",
   "execution_count": null,
   "metadata": {},
   "outputs": [],
   "source": []
  },
  {
   "cell_type": "code",
   "execution_count": null,
   "metadata": {},
   "outputs": [],
   "source": []
  },
  {
   "cell_type": "code",
   "execution_count": null,
   "metadata": {},
   "outputs": [],
   "source": []
  },
  {
   "cell_type": "code",
   "execution_count": null,
   "metadata": {},
   "outputs": [],
   "source": []
  },
  {
   "cell_type": "code",
   "execution_count": null,
   "metadata": {},
   "outputs": [],
   "source": []
  },
  {
   "cell_type": "code",
   "execution_count": null,
   "metadata": {},
   "outputs": [],
   "source": []
  },
  {
   "cell_type": "code",
   "execution_count": null,
   "metadata": {},
   "outputs": [],
   "source": []
  },
  {
   "cell_type": "code",
   "execution_count": null,
   "metadata": {},
   "outputs": [],
   "source": []
  },
  {
   "cell_type": "code",
   "execution_count": 370,
   "metadata": {},
   "outputs": [],
   "source": [
    "genres = data['genres']\n",
    "production_companies = data['production_companies']"
   ]
  },
  {
   "cell_type": "code",
   "execution_count": null,
   "metadata": {},
   "outputs": [],
   "source": []
  },
  {
   "cell_type": "code",
   "execution_count": null,
   "metadata": {},
   "outputs": [],
   "source": []
  },
  {
   "cell_type": "code",
   "execution_count": null,
   "metadata": {},
   "outputs": [],
   "source": []
  },
  {
   "cell_type": "code",
   "execution_count": null,
   "metadata": {},
   "outputs": [],
   "source": []
  },
  {
   "cell_type": "code",
   "execution_count": null,
   "metadata": {},
   "outputs": [],
   "source": []
  },
  {
   "cell_type": "code",
   "execution_count": null,
   "metadata": {},
   "outputs": [],
   "source": []
  },
  {
   "cell_type": "code",
   "execution_count": 391,
   "metadata": {},
   "outputs": [],
   "source": [
    "newDF = pd.DataFrame() #creates a new dataframe that's empty\n"
   ]
  },
  {
   "cell_type": "code",
   "execution_count": null,
   "metadata": {},
   "outputs": [],
   "source": []
  },
  {
   "cell_type": "code",
   "execution_count": 388,
   "metadata": {
    "scrolled": true
   },
   "outputs": [
    {
     "name": "stderr",
     "output_type": "stream",
     "text": [
      "E:\\APPS\\Anaconda\\lib\\site-packages\\ipykernel_launcher.py:19: SettingWithCopyWarning: \n",
      "A value is trying to be set on a copy of a slice from a DataFrame\n",
      "\n",
      "See the caveats in the documentation: https://pandas.pydata.org/pandas-docs/stable/user_guide/indexing.html#returning-a-view-versus-a-copy\n"
     ]
    },
    {
     "name": "stdout",
     "output_type": "stream",
     "text": [
      "nan\n",
      "23817\n",
      "26441\n",
      "nan\n",
      "nan\n",
      "40102\n"
     ]
    }
   ],
   "source": [
    "n = 0\n",
    "for row in data.iterrows():\n",
    "    a = str(row[1][4])\n",
    "    if(len(a) == 2):\n",
    "        n = n + 1\n",
    "    elif(a == \"nan\" or a == \"FALSE\"):\n",
    "        n = n + 1\n",
    "        print(a)\n",
    "    else:\n",
    "        b =  re.sub(\"\\\"\",\"'\", a)\n",
    "        b = re.sub(\"\\[{'\",\"[{\\\"\",b)\n",
    "        b = re.sub(\", {'\",\", {\\\"\",b)\n",
    "        b = re.sub(\", '\",\",\\\"\", b)\n",
    "        b = re.sub(\"':\",\"\\\": \", b)\n",
    "        b =  re.sub(\":  '\",\": \\\"\", b)\n",
    "        b =  re.sub(\"',\\\"\",\"\\\",\\\"\", b)\n",
    "        b =  re.sub(\"'}\",\"\\\"}\", b)\n",
    "        try:\n",
    "            production_companies[n] = json.loads(b)\n",
    "            newDF = newDF.append({\"production_companies\":json.loads(b)}, ignore_index = True)\n",
    "        except:\n",
    "              print(n)\n",
    "        \n",
    "        finally:\n",
    "            n = n + 1\n",
    "            "
   ]
  },
  {
   "cell_type": "code",
   "execution_count": 392,
   "metadata": {},
   "outputs": [
    {
     "name": "stderr",
     "output_type": "stream",
     "text": [
      "E:\\APPS\\Anaconda\\lib\\site-packages\\ipykernel_launcher.py:21: SettingWithCopyWarning: \n",
      "A value is trying to be set on a copy of a slice from a DataFrame\n",
      "\n",
      "See the caveats in the documentation: https://pandas.pydata.org/pandas-docs/stable/user_guide/indexing.html#returning-a-view-versus-a-copy\n"
     ]
    }
   ],
   "source": [
    "n = 0\n",
    "for row in data.iterrows():\n",
    "    a = str(row[1][0])\n",
    "    if(len(a) == 2):\n",
    "        n = n + 1\n",
    "    elif(a == \"nan\" or a == \"FALSE\"):\n",
    "        n = n + 1\n",
    "        print(a)\n",
    "    else:\n",
    "#         print(a)\n",
    "        b =  re.sub(\"\\\"\",\"'\", a)\n",
    "        b = re.sub(\"\\[{'\",\"[{\\\"\",b)\n",
    "        b = re.sub(\", {'\",\", {\\\"\",b)\n",
    "        b = re.sub(\", '\",\",\\\"\", b)\n",
    "        b = re.sub(\"':\",\"\\\": \", b)\n",
    "        b =  re.sub(\":  '\",\": \\\"\", b)\n",
    "        b =  re.sub(\"',\\\"\",\"\\\",\\\"\", b)\n",
    "        b =  re.sub(\"'}\",\"\\\"}\", b)\n",
    "#         print(b)\n",
    "        try:\n",
    "            production_companies[n] = json.loads(b)\n",
    "            newDF = newDF.append({\"production_companies\":json.loads(b)}, ignore_index = True)\n",
    "        except:\n",
    "              print(n)\n",
    "              break\n",
    "        \n",
    "        finally:\n",
    "            n = n + 1\n",
    "            "
   ]
  },
  {
   "cell_type": "code",
   "execution_count": 394,
   "metadata": {},
   "outputs": [],
   "source": [
    "newDF.to_json(\"temp.json\", orient=\"records\", lines=True)"
   ]
  },
  {
   "cell_type": "code",
   "execution_count": null,
   "metadata": {},
   "outputs": [],
   "source": []
  },
  {
   "cell_type": "code",
   "execution_count": null,
   "metadata": {},
   "outputs": [],
   "source": []
  },
  {
   "cell_type": "code",
   "execution_count": null,
   "metadata": {},
   "outputs": [],
   "source": []
  },
  {
   "cell_type": "code",
   "execution_count": null,
   "metadata": {},
   "outputs": [],
   "source": []
  },
  {
   "cell_type": "code",
   "execution_count": null,
   "metadata": {},
   "outputs": [],
   "source": []
  },
  {
   "cell_type": "code",
   "execution_count": null,
   "metadata": {},
   "outputs": [],
   "source": []
  },
  {
   "cell_type": "code",
   "execution_count": 36,
   "metadata": {},
   "outputs": [
    {
     "name": "stdout",
     "output_type": "stream",
     "text": [
      "[{'iso_639_1': 'ru', 'name': 'Pусский'}, {'iso_639_1': 'lt', 'name': 'Lietuvikai'}]\n",
      "[{\"iso_639_1\": \"ru\",\"name\": \"Pусский\"}, {\"iso_639_1\": \"lt\",\"name\": \"Lietuvikai\"}]\n"
     ]
    },
    {
     "data": {
      "text/plain": [
       "[{'iso_639_1': 'ru', 'name': 'Pусский'},\n",
       " {'iso_639_1': 'lt', 'name': 'Lietuvi\\x9akai'}]"
      ]
     },
     "execution_count": 36,
     "metadata": {},
     "output_type": "execute_result"
    }
   ],
   "source": [
    "a = str(\"[{'iso_639_1': 'ru', 'name': 'Pусский'}, {'iso_639_1': 'lt', 'name': 'Lietuvi\\x9akai'}]\")\n",
    "print(a)\n",
    "\n",
    "a =  re.sub(\"\\\"\",\"'\", a)\n",
    " \n",
    "a = re.sub(\"\\[{'\",\"[{\\\"\",a)\n",
    "a = re.sub(\", {'\",\", {\\\"\",a)\n",
    "a = re.sub(\", '\",\",\\\"\", a)\n",
    "a = re.sub(\"':\",\"\\\": \", a)\n",
    "\n",
    "a =  re.sub(\"'}\",\"\\\"}\", a)\n",
    "# a =  re.sub(\"\\\"\",\"''\", a)\n",
    "\n",
    "# a =  re.sub(\"\\\"\",\"''\", a)\n",
    "a =  re.sub(\":  '\",\": \\\"\", a)\n",
    "a =  re.sub(\"',\\\"\",\"\\\",\\\"\", a)\n",
    "\n",
    "# a = re.sub(\" \\\"[a-zA-Z0-9]|[a-zA-Z0-9]\\\"\",\" ' \", a)\n",
    "\n",
    "print(a)\n",
    "json.loads(a)"
   ]
  },
  {
   "cell_type": "code",
   "execution_count": 14,
   "metadata": {},
   "outputs": [
    {
     "ename": "NameError",
     "evalue": "name 'genres' is not defined",
     "output_type": "error",
     "traceback": [
      "\u001b[1;31m---------------------------------------------------------------------------\u001b[0m",
      "\u001b[1;31mNameError\u001b[0m                                 Traceback (most recent call last)",
      "\u001b[1;32m<ipython-input-14-cbf8f5bcdd71>\u001b[0m in \u001b[0;36m<module>\u001b[1;34m\u001b[0m\n\u001b[1;32m----> 1\u001b[1;33m \u001b[0ma\u001b[0m \u001b[1;33m=\u001b[0m \u001b[0mstr\u001b[0m\u001b[1;33m(\u001b[0m\u001b[0mgenres\u001b[0m\u001b[1;33m[\u001b[0m\u001b[1;36m0\u001b[0m\u001b[1;33m]\u001b[0m\u001b[1;33m)\u001b[0m\u001b[1;33m\u001b[0m\u001b[1;33m\u001b[0m\u001b[0m\n\u001b[0m\u001b[0;32m      2\u001b[0m \u001b[0mprint\u001b[0m\u001b[1;33m(\u001b[0m\u001b[0ma\u001b[0m\u001b[1;33m)\u001b[0m\u001b[1;33m\u001b[0m\u001b[1;33m\u001b[0m\u001b[0m\n\u001b[0;32m      3\u001b[0m \u001b[1;33m\u001b[0m\u001b[0m\n\u001b[0;32m      4\u001b[0m \u001b[0ma\u001b[0m \u001b[1;33m=\u001b[0m  \u001b[0mre\u001b[0m\u001b[1;33m.\u001b[0m\u001b[0msub\u001b[0m\u001b[1;33m(\u001b[0m\u001b[1;34m\"\\\"\"\u001b[0m\u001b[1;33m,\u001b[0m\u001b[1;34m\"'\"\u001b[0m\u001b[1;33m,\u001b[0m \u001b[0ma\u001b[0m\u001b[1;33m)\u001b[0m\u001b[1;33m\u001b[0m\u001b[1;33m\u001b[0m\u001b[0m\n\u001b[0;32m      5\u001b[0m \u001b[1;33m\u001b[0m\u001b[0m\n",
      "\u001b[1;31mNameError\u001b[0m: name 'genres' is not defined"
     ]
    }
   ],
   "source": [
    "a = str(genres[0])\n",
    "print(a)\n",
    "\n",
    "a =  re.sub(\"\\\"\",\"'\", a)\n",
    " \n",
    "a = re.sub(\"\\[{'\",\"[{\\\"\",a)\n",
    "a = re.sub(\", {'\",\", {\\\"\",a)\n",
    "a = re.sub(\", '\",\",\\\"\", a)\n",
    "a = re.sub(\"':\",\"\\\": \", a)\n",
    "\n",
    "a =  re.sub(\"'}\",\"\\\"}\", a)\n",
    "\n",
    "# a =  re.sub(\"\\\"\",\"''\", a)\n",
    "a =  re.sub(\":  '\",\": \\\"\", a)\n",
    "a =  re.sub(\"',\\\"\",\"\\\",\\\"\", a)\n",
    "\n",
    "# a = re.sub(\" \\\"[a-zA-Z0-9]|[a-zA-Z0-9]\\\"\",\" ' \", a)\n",
    "\n",
    "print(a)\n",
    "json.loads(a)"
   ]
  },
  {
   "cell_type": "code",
   "execution_count": null,
   "metadata": {},
   "outputs": [],
   "source": []
  },
  {
   "cell_type": "code",
   "execution_count": null,
   "metadata": {},
   "outputs": [],
   "source": []
  },
  {
   "cell_type": "code",
   "execution_count": null,
   "metadata": {},
   "outputs": [],
   "source": []
  },
  {
   "cell_type": "code",
   "execution_count": null,
   "metadata": {},
   "outputs": [],
   "source": []
  },
  {
   "cell_type": "code",
   "execution_count": null,
   "metadata": {},
   "outputs": [],
   "source": []
  },
  {
   "cell_type": "code",
   "execution_count": null,
   "metadata": {},
   "outputs": [],
   "source": []
  },
  {
   "cell_type": "code",
   "execution_count": null,
   "metadata": {},
   "outputs": [],
   "source": []
  },
  {
   "cell_type": "code",
   "execution_count": null,
   "metadata": {},
   "outputs": [],
   "source": []
  },
  {
   "cell_type": "code",
   "execution_count": null,
   "metadata": {},
   "outputs": [],
   "source": []
  }
 ],
 "metadata": {
  "kernelspec": {
   "display_name": "Python 3",
   "language": "python",
   "name": "python3"
  },
  "language_info": {
   "codemirror_mode": {
    "name": "ipython",
    "version": 3
   },
   "file_extension": ".py",
   "mimetype": "text/x-python",
   "name": "python",
   "nbconvert_exporter": "python",
   "pygments_lexer": "ipython3",
   "version": "3.7.7"
  }
 },
 "nbformat": 4,
 "nbformat_minor": 4
}
